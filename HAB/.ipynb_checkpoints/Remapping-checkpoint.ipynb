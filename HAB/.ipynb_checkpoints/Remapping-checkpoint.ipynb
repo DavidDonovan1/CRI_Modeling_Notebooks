{
 "cells": [
  {
   "cell_type": "code",
   "execution_count": 2,
   "metadata": {},
   "outputs": [
    {
     "ename": "ModuleNotFoundError",
     "evalue": "No module named 'pyresample'",
     "output_type": "error",
     "traceback": [
      "\u001b[1;31m---------------------------------------------------------------------------\u001b[0m",
      "\u001b[1;31mModuleNotFoundError\u001b[0m                       Traceback (most recent call last)",
      "\u001b[1;32m<ipython-input-2-757e9a11f8eb>\u001b[0m in \u001b[0;36m<module>\u001b[1;34m\u001b[0m\n\u001b[0;32m      7\u001b[0m \u001b[1;32mimport\u001b[0m \u001b[0mmatplotlib\u001b[0m\u001b[1;33m\u001b[0m\u001b[1;33m\u001b[0m\u001b[0m\n\u001b[0;32m      8\u001b[0m \u001b[1;32mimport\u001b[0m \u001b[0mmatplotlib\u001b[0m\u001b[1;33m.\u001b[0m\u001b[0mpyplot\u001b[0m \u001b[1;32mas\u001b[0m \u001b[0mplt\u001b[0m\u001b[1;33m\u001b[0m\u001b[1;33m\u001b[0m\u001b[0m\n\u001b[1;32m----> 9\u001b[1;33m \u001b[1;32mimport\u001b[0m \u001b[0mpyresample\u001b[0m\u001b[1;33m\u001b[0m\u001b[1;33m\u001b[0m\u001b[0m\n\u001b[0m",
      "\u001b[1;31mModuleNotFoundError\u001b[0m: No module named 'pyresample'"
     ]
    }
   ],
   "source": [
    "import numpy as np\n",
    "import pandas as pd\n",
    "import xarray as xr\n",
    "import seaborn as sns\n",
    "import cartopy.crs as crs\n",
    "import cartopy.feature as cfeature\n",
    "import matplotlib\n",
    "import matplotlib.pyplot as plt\n",
    "import pyresample"
   ]
  },
  {
   "cell_type": "code",
   "execution_count": null,
   "metadata": {},
   "outputs": [],
   "source": [
    "NOAA = xr.open_dataset(r'D:\\CRI_Modelling_PC\\Netcdf Data\\NOAA\\sst.day.mean.PacCst.1981-2019.nc')\n",
    "\n",
    "BCC_CSM_BS = xr.open_dataset(r\"D:\\CRI_Modelling_PC\\Netcdf Data\\RegCM\\BCC-CSM_TEMPS\\BS\\BCC-CSM_BS_1966-2005_day_tg.nc\")\n",
    "BCC_CSM_RCP = xr.open_dataset(r\"D:\\CRI_Modelling_PC\\Netcdf Data\\RegCM\\BCC-CSM_TEMPS\\RCP\\BCC-CSM_RCP_2011-2050_day_tg.nc\")\n",
    "\n",
    "ACCESS_BS = xr.open_dataset(r\"D:\\CRI_Modelling_PC\\Netcdf Data\\RegCM\\ACCESS_TEMPS\\BS\\ACCESS_BS_1966-2005_day_tg.nc\")\n",
    "ACCESS_RCP = xr.open_dataset(r\"D:\\CRI_Modelling_PC\\Netcdf Data\\RegCM\\ACCESS_TEMPS\\RCP\\ACCESS_RCP_2011-2050_day_tg.nc\")\n",
    "\n",
    "CCSM4_BS = xr.open_dataset(r\"D:\\CRI_Modelling_PC\\Netcdf Data\\RegCM\\CCSM4_TEMPS\\BS\\CCSM4_BS_1966-2005_day_tg.nc\")\n",
    "CCSM4_RCP = xr.open_dataset(r\"D:\\CRI_Modelling_PC\\Netcdf Data\\RegCM\\CCSM4_TEMPS\\RCP\\CCSM4_RCP_2011-2050_day_tg.nc\")\n",
    "\n",
    "CMCC_BS = xr.open_dataset(r\"D:\\CRI_Modelling_PC\\Netcdf Data\\RegCM\\CMCC_TEMPS\\BS\\CMCC_BS_1966-2005_day_tg.nc\")\n",
    "CMCC_RCP = xr.open_dataset(r\"D:\\CRI_Modelling_PC\\Netcdf Data\\RegCM\\CMCC_TEMPS\\RCP\\CMCC_RCP_2011-2050_day_tg.nc\")\n",
    "\n",
    "FGOALS_BS = xr.open_dataset(r\"D:\\CRI_Modelling_PC\\Netcdf Data\\RegCM\\FGOALS_TEMPS\\BS\\FGOALS_BS_1966-2005_day_tg.nc\")\n",
    "FGOALS_RCP = xr.open_dataset(r\"D:\\CRI_Modelling_PC\\Netcdf Data\\RegCM\\FGOALS_TEMPS\\RCP\\FGOALS_RCP_2011-2050_day_tg.nc\")\n",
    "\n",
    "GFDL_BS = xr.open_dataset(r\"D:\\CRI_Modelling_PC\\Netcdf Data\\RegCM\\GFDL_TEMPS\\BS\\GFDL_BS_1966-2005_day_tg.nc\")\n",
    "GFDL_RCP = xr.open_dataset(r\"D:\\CRI_Modelling_PC\\Netcdf Data\\RegCM\\GFDL_TEMPS\\RCP\\GFDL_RCP_2011-2050_day_tg.nc\")\n",
    "\n",
    "IPSL_BS = xr.open_dataset(r\"D:\\CRI_Modelling_PC\\Netcdf Data\\RegCM\\IPSL_TEMPS\\BS\\IPSL_BS_1966-2005_day_tg.nc\")\n",
    "IPSL_RCP = xr.open_dataset(r\"D:\\CRI_Modelling_PC\\Netcdf Data\\RegCM\\IPSL_TEMPS\\RCP\\IPSL_RCP_2011-2050_day_tg.nc\")\n",
    "\n",
    "MIROC5_BS = xr.open_dataset(r\"D:\\CRI_Modelling_PC\\Netcdf Data\\RegCM\\MIROC5_TEMPS\\BS\\MIROC5_BS_1966-2005_day_tg.nc\")\n",
    "MIROC5_RCP = xr.open_dataset(r\"D:\\CRI_Modelling_PC\\Netcdf Data\\RegCM\\MIROC5_TEMPS\\RCP\\MIROC5_RCP_2011-2050_day_tg.nc\")\n",
    "\n",
    "MPI_BS = xr.open_dataset(r\"D:\\CRI_Modelling_PC\\Netcdf Data\\RegCM\\MPI_TEMPS\\BS\\MPI_BS_1966-2005_day_tg.nc\")\n",
    "MPI_RCP = xr.open_dataset(r\"D:\\CRI_Modelling_PC\\Netcdf Data\\RegCM\\MPI_TEMPS\\RCP\\MPI_RCP_2011-2050_day_tg.nc\")\n",
    "\n",
    "MRI_BS = xr.open_dataset(r\"D:\\CRI_Modelling_PC\\Netcdf Data\\RegCM\\MRI_TEMPS\\BS\\MRI_BS_1966-2005_day_tg.nc\")\n",
    "MRI_RCP = xr.open_dataset(r\"D:\\CRI_Modelling_PC\\Netcdf Data\\RegCM\\MRI_TEMPS\\RCP\\MRI_RCP_2011-2050_day_tg.nc\")\n",
    "\n",
    "NorESM_BS = xr.open_dataset(r\"D:\\CRI_Modelling_PC\\Netcdf Data\\RegCM\\NorESM_TEMPS\\BS\\NorESM_BS_1966-2005_day_tg.nc\")\n",
    "NorESM_RCP = xr.open_dataset(r\"D:\\CRI_Modelling_PC\\Netcdf Data\\RegCM\\NorESM_TEMPS\\RCP\\NorESM_RCP_2011-2050_day_tg.nc\")\n",
    "\n",
    "LandMask = xr.open_dataset(r'D:\\CRI_Modelling_PC\\Netcdf Data\\mask_new.nc').mask"
   ]
  },
  {
   "cell_type": "code",
   "execution_count": null,
   "metadata": {},
   "outputs": [],
   "source": [
    "download_from_link(\"ftp://ftp.cdc.noaa.gov/Datasets/ncep.reanalysis.derived/surface/air.mon.mean.nc\")"
   ]
  },
  {
   "cell_type": "code",
   "execution_count": null,
   "metadata": {},
   "outputs": [],
   "source": [
    "download_from_link(\"https://www.dropbox.com/s/9xzgyjs08zyuwzw/curv_grid.nc\")"
   ]
  },
  {
   "cell_type": "code",
   "execution_count": null,
   "metadata": {},
   "outputs": [],
   "source": [
    "fc = Dataset('curv_grid.nc')\n",
    "lon_curv = fc.variables['xc'][0,:,:]\n",
    "lat_curv = fc.variables['yc'][0,:,:]\n",
    "fc.close()\n",
    "\n",
    "# load lat-lon-value of the origin data\n",
    "fr = Dataset('')\n",
    "air = fr.variables['air'][0,:,:]\n",
    "lat = fr.variables['lat'][:]\n",
    "lon = fr.variables['lon'][:]\n",
    "fr.close()\n",
    "\n",
    "# get 2D versions of the lat and lon variables (note the -180 here!)\n",
    "lon2d, lat2d = np.meshgrid(lon - 180, lat)"
   ]
  },
  {
   "cell_type": "code",
   "execution_count": null,
   "metadata": {},
   "outputs": [],
   "source": []
  }
 ],
 "metadata": {
  "kernelspec": {
   "display_name": "Python 3",
   "language": "python",
   "name": "python3"
  },
  "language_info": {
   "codemirror_mode": {
    "name": "ipython",
    "version": 3
   },
   "file_extension": ".py",
   "mimetype": "text/x-python",
   "name": "python",
   "nbconvert_exporter": "python",
   "pygments_lexer": "ipython3",
   "version": "3.7.7"
  }
 },
 "nbformat": 4,
 "nbformat_minor": 2
}
