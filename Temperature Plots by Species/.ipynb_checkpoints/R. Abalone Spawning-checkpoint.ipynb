{
 "cells": [
  {
   "cell_type": "code",
   "execution_count": 1,
   "metadata": {},
   "outputs": [
    {
     "name": "stderr",
     "output_type": "stream",
     "text": [
      "C:\\ProgramData\\Anaconda3\\lib\\site-packages\\dask\\config.py:168: YAMLLoadWarning: calling yaml.load() without Loader=... is deprecated, as the default Loader is unsafe. Please read https://msg.pyyaml.org/load for full details.\n",
      "  data = yaml.load(f.read()) or {}\n",
      "C:\\ProgramData\\Anaconda3\\lib\\site-packages\\distributed\\config.py:20: YAMLLoadWarning: calling yaml.load() without Loader=... is deprecated, as the default Loader is unsafe. Please read https://msg.pyyaml.org/load for full details.\n",
      "  defaults = yaml.load(f)\n"
     ]
    }
   ],
   "source": [
    "# Packages necessary for this notebook\n",
    "import numpy             as np\n",
    "import pandas            as pd\n",
    "import xarray            as xr\n",
    "import seaborn           as sns\n",
    "import cartopy.crs       as crs\n",
    "import cartopy.feature   as cfeature\n",
    "import matplotlib\n",
    "import matplotlib.pyplot as plt"
   ]
  },
  {
   "cell_type": "code",
   "execution_count": 2,
   "metadata": {},
   "outputs": [],
   "source": [
    "# Import the NOAA data from 1981-2019\n",
    "NOAA = xr.open_dataset(r'D:\\CRI_Modelling_PC\\Netcdf Data\\NOAA\\sst.day.mean.PacCst.1981-2019.nc')"
   ]
  },
  {
   "cell_type": "code",
   "execution_count": 3,
   "metadata": {},
   "outputs": [],
   "source": [
    "# Put in your temperature ranges here:\n",
    "# All temperatures in Celcius\n",
    "min_Temp = 12\n",
    "max_Temp = 20"
   ]
  },
  {
   "cell_type": "code",
   "execution_count": 4,
   "metadata": {},
   "outputs": [],
   "source": [
    "# Get lat and lon data\n",
    "lat = NOAA.lat.data\n",
    "lon = NOAA.lon.data"
   ]
  },
  {
   "cell_type": "code",
   "execution_count": 5,
   "metadata": {},
   "outputs": [],
   "source": [
    "NOAA_years = np.where((pd.DatetimeIndex(NOAA.time.data).year>=1982) & (pd.DatetimeIndex(NOAA.time.data).year<=2018))\n",
    "NOAA_short = NOAA.sst[(NOAA_years[0]),:,:]"
   ]
  },
  {
   "cell_type": "code",
   "execution_count": 6,
   "metadata": {},
   "outputs": [],
   "source": [
    "# Create a mask for land, count the days, and average them over years\n",
    "NOAA_Mask  = NOAA.sst.where(NOAA.sst.isnull(), 1)\n",
    "NOAA_Count = NOAA_short.where((NOAA_short <= max_Temp) & (NOAA_short >= min_Temp)).groupby('time.year').count(dim='time')\n",
    "count_Mean = NOAA_Count.mean(dim=\"year\")\n",
    "NOAA_Final = count_Mean*NOAA_Mask[0,:,:]"
   ]
  },
  {
   "cell_type": "code",
   "execution_count": 7,
   "metadata": {},
   "outputs": [],
   "source": [
    "# Standard deviation data. We might change this, but for now this works\n",
    "std_Dev = NOAA_Count.std(dim=\"year\")*NOAA_Mask[0,:,:]"
   ]
  },
  {
   "cell_type": "code",
   "execution_count": 8,
   "metadata": {},
   "outputs": [],
   "source": [
    "# Just for getting state lines \n",
    "states_provinces = cfeature.NaturalEarthFeature(\n",
    "        category='cultural',\n",
    "        name='admin_1_states_provinces_lines',\n",
    "        scale='50m',\n",
    "        facecolor='none')"
   ]
  },
  {
   "cell_type": "code",
   "execution_count": 1,
   "metadata": {},
   "outputs": [
    {
     "ename": "NameError",
     "evalue": "name 'plt' is not defined",
     "output_type": "error",
     "traceback": [
      "\u001b[1;31m---------------------------------------------------------------------------\u001b[0m",
      "\u001b[1;31mNameError\u001b[0m                                 Traceback (most recent call last)",
      "\u001b[1;32m<ipython-input-1-3dde8724b234>\u001b[0m in \u001b[0;36m<module>\u001b[1;34m\u001b[0m\n\u001b[0;32m      1\u001b[0m \u001b[1;31m# Creating a figure, change name to species name\u001b[0m\u001b[1;33m\u001b[0m\u001b[1;33m\u001b[0m\u001b[1;33m\u001b[0m\u001b[0m\n\u001b[1;32m----> 2\u001b[1;33m \u001b[0mfig\u001b[0m \u001b[1;33m=\u001b[0m \u001b[0mplt\u001b[0m\u001b[1;33m.\u001b[0m\u001b[0mfigure\u001b[0m\u001b[1;33m(\u001b[0m\u001b[0mfigsize\u001b[0m\u001b[1;33m=\u001b[0m\u001b[1;33m[\u001b[0m\u001b[1;36m20\u001b[0m\u001b[1;33m,\u001b[0m\u001b[1;36m10\u001b[0m\u001b[1;33m]\u001b[0m\u001b[1;33m)\u001b[0m\u001b[1;33m\u001b[0m\u001b[1;33m\u001b[0m\u001b[0m\n\u001b[0m\u001b[0;32m      3\u001b[0m \u001b[0mfig\u001b[0m\u001b[1;33m.\u001b[0m\u001b[0msuptitle\u001b[0m\u001b[1;33m(\u001b[0m\u001b[1;34m'Red Abalone (spawning)'\u001b[0m\u001b[1;33m,\u001b[0m\u001b[0mfontsize\u001b[0m\u001b[1;33m=\u001b[0m\u001b[1;36m32\u001b[0m\u001b[1;33m)\u001b[0m\u001b[1;33m\u001b[0m\u001b[1;33m\u001b[0m\u001b[0m\n\u001b[0;32m      4\u001b[0m \u001b[1;33m\u001b[0m\u001b[0m\n\u001b[0;32m      5\u001b[0m \u001b[1;31m# Plot the count_Mean data\u001b[0m\u001b[1;33m\u001b[0m\u001b[1;33m\u001b[0m\u001b[1;33m\u001b[0m\u001b[0m\n",
      "\u001b[1;31mNameError\u001b[0m: name 'plt' is not defined"
     ]
    }
   ],
   "source": [
    "# Creating a figure, change name to species name\n",
    "fig = plt.figure(figsize=[20,10])\n",
    "fig.suptitle('Red Abalone (spawning)',fontsize=32)\n",
    "\n",
    "# Plot the count_Mean data\n",
    "NOAA_Plot = fig.add_subplot(1,2,1,projection=crs.LambertConformal())\n",
    "NOAA_Plot.set_title('Daily averages between ' + str(min_Temp) + '\\u00b0C and ' + str(max_Temp) + '\\u00b0C, 1982 - 2018', fontsize=20)\n",
    "NOAA_Plot.set_extent([230,245,28,43], crs.Geodetic())\n",
    "NOAA_Colormesh = NOAA_Plot.pcolormesh(lon, lat, NOAA_Final.data,\n",
    "             transform=crs.PlateCarree(),\n",
    "             cmap='jet',vmax=365)\n",
    "NOAA_Plot.add_feature(cfeature.COASTLINE)\n",
    "NOAA_Plot.add_feature(cfeature.LAND)\n",
    "NOAA_Plot.add_feature(cfeature.BORDERS)\n",
    "NOAA_Plot.add_feature(states_provinces, edgecolor='gray')\n",
    "NOAA_Plot.gridlines()\n",
    "\n",
    "# Create a colorbar\n",
    "colorbar = fig.colorbar(NOAA_Colormesh, shrink=0.7, anchor=('SW'))\n",
    "colorbar.set_label('Number of Days',fontsize=24)\n",
    "colorbar.ax.tick_params(labelsize=22)\n",
    "\n",
    "# Plot the std_Dev data\n",
    "std_Plot = fig.add_subplot(1,2,2,projection=crs.LambertConformal())\n",
    "std_Plot.set_title('Standard Deviation', fontsize=20)\n",
    "std_Plot.set_extent([230,245,28,43], crs.Geodetic())\n",
    "std_Colormesh = std_Plot.pcolormesh(lon, lat, std_Dev.data,\n",
    "             transform=crs.PlateCarree(),\n",
    "             cmap='jet')\n",
    "std_Plot.add_feature(cfeature.COASTLINE)\n",
    "std_Plot.add_feature(cfeature.LAND)\n",
    "std_Plot.add_feature(cfeature.BORDERS)\n",
    "std_Plot.add_feature(states_provinces, edgecolor='gray')\n",
    "std_Plot.gridlines()\n",
    "\n",
    "# A new colorbar\n",
    "colorbar2 = fig.colorbar(std_Colormesh, shrink=0.7, anchor=('SW'))\n",
    "colorbar2.set_label('Number of Days',fontsize=24)\n",
    "colorbar2.ax.tick_params(labelsize=22)\n",
    "\n",
    "# Replace \"add_name_here\" with the name of your species, this will save the graph to the computer so we can have it\n",
    "# for Gaby's PowerPoint\n",
    "fig.savefig(r\"D:\\CRI_Modelling_PC\\CRI Maps\\red abalone spawning\", bbox_inches='tight')"
   ]
  },
  {
   "cell_type": "code",
   "execution_count": null,
   "metadata": {},
   "outputs": [],
   "source": []
  },
  {
   "cell_type": "code",
   "execution_count": null,
   "metadata": {},
   "outputs": [],
   "source": []
  }
 ],
 "metadata": {
  "kernelspec": {
   "display_name": "Python 3",
   "language": "python",
   "name": "python3"
  },
  "language_info": {
   "codemirror_mode": {
    "name": "ipython",
    "version": 3
   },
   "file_extension": ".py",
   "mimetype": "text/x-python",
   "name": "python",
   "nbconvert_exporter": "python",
   "pygments_lexer": "ipython3",
   "version": "3.7.3"
  }
 },
 "nbformat": 4,
 "nbformat_minor": 2
}
