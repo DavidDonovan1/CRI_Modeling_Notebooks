{
 "cells": [
  {
   "cell_type": "code",
   "execution_count": 16,
   "metadata": {},
   "outputs": [],
   "source": [
    "# Packages necessary for this notebook\n",
    "import numpy             as np\n",
    "import pandas            as pd\n",
    "import xarray            as xr\n",
    "import seaborn           as sns\n",
    "import cartopy.crs       as crs\n",
    "import cartopy.feature   as cfeature\n",
    "import matplotlib\n",
    "import matplotlib.pyplot as plt"
   ]
  },
  {
   "cell_type": "code",
   "execution_count": 17,
   "metadata": {},
   "outputs": [],
   "source": [
    "# Import the NOAA data from 1981-2019\n",
    "NOAA = xr.open_dataset(r'D:\\CRI_Modelling_PC\\Netcdf Data\\NOAA\\sst.day.mean.PacCst.1981-2019.nc')"
   ]
  },
  {
   "cell_type": "code",
   "execution_count": 18,
   "metadata": {},
   "outputs": [],
   "source": [
    "# Put in your temperature ranges here:\n",
    "# All temperatures in Celcius\n",
    "min_Temp = 15\n",
    "max_Temp = 23"
   ]
  },
  {
   "cell_type": "code",
   "execution_count": 19,
   "metadata": {},
   "outputs": [],
   "source": [
    "# Get lat and lon data\n",
    "lat = NOAA.lat.data\n",
    "lon = NOAA.lon.data"
   ]
  },
  {
   "cell_type": "code",
   "execution_count": 20,
   "metadata": {},
   "outputs": [],
   "source": [
    "NOAA_years = np.where((pd.DatetimeIndex(NOAA.time.data).year>=1982) & (pd.DatetimeIndex(NOAA.time.data).year<=2018))\n",
    "NOAA_short = NOAA.sst[(NOAA_years[0]),:,:]"
   ]
  },
  {
   "cell_type": "code",
   "execution_count": null,
   "metadata": {},
   "outputs": [],
   "source": [
    "# Create a mask for land, count the days, and average them over years\n",
    "NOAA_Mask  = NOAA.sst.where(NOAA.sst.isnull(), 1)\n",
    "NOAA_Count = NOAA_short.where((NOAA_short <= max_Temp) & (NOAA_short >= min_Temp)).groupby('time.year').count(dim='time')\n",
    "count_Mean = NOAA_Count.mean(dim=\"year\")\n",
    "NOAA_Final = count_Mean*NOAA_Mask[0,:,:]"
   ]
  },
  {
   "cell_type": "code",
   "execution_count": null,
   "metadata": {},
   "outputs": [],
   "source": [
    "# Standard deviation data. We might change this, but for now this works\n",
    "std_Dev = NOAA_Count.std(dim=\"year\")*NOAA_Mask[0,:,:]"
   ]
  },
  {
   "cell_type": "code",
   "execution_count": null,
   "metadata": {},
   "outputs": [],
   "source": [
    "# Just for getting state lines \n",
    "states_provinces = cfeature.NaturalEarthFeature(\n",
    "        category='cultural',\n",
    "        name='admin_1_states_provinces_lines',\n",
    "        scale='50m',\n",
    "        facecolor='none')"
   ]
  },
  {
   "cell_type": "code",
   "execution_count": null,
   "metadata": {},
   "outputs": [],
   "source": [
    "# Creating a figure, change name to species name\n",
    "fig = plt.figure(figsize=[20,10])\n",
    "fig.suptitle('California Halibut',fontsize=32)\n",
    "\n",
    "# Plot the count_Mean data\n",
    "NOAA_Plot = fig.add_subplot(1,2,1,projection=crs.LambertConformal())\n",
    "NOAA_Plot.set_title('Daily averages between ' + str(min_Temp) + '\\u00b0C and ' + str(max_Temp) + '\\u00b0C, 1982 - 2019', fontsize=20)\n",
    "NOAA_Plot.set_extent([230,245,28,43], crs.Geodetic())\n",
    "NOAA_Colormesh = NOAA_Plot.pcolormesh(lon, lat, NOAA_Final.data,\n",
    "             transform=crs.PlateCarree(),\n",
    "             cmap='jet',vmax=365)\n",
    "NOAA_Plot.add_feature(cfeature.COASTLINE)\n",
    "NOAA_Plot.add_feature(cfeature.LAND)\n",
    "NOAA_Plot.add_feature(cfeature.BORDERS)\n",
    "NOAA_Plot.add_feature(states_provinces, edgecolor='gray')\n",
    "NOAA_Plot.gridlines()\n",
    "\n",
    "# Create a colorbar\n",
    "colorbar = fig.colorbar(NOAA_Colormesh, shrink=0.7, anchor=('SW'))\n",
    "colorbar.set_label('Number of Days',fontsize=24)\n",
    "colorbar.ax.tick_params(labelsize=22)\n",
    "\n",
    "# Plot the std_Dev data\n",
    "std_Plot = fig.add_subplot(1,2,2,projection=crs.LambertConformal())\n",
    "std_Plot.set_title('Standard Deviation', fontsize=20)\n",
    "std_Plot.set_extent([230,245,28,43], crs.Geodetic())\n",
    "std_Colormesh = std_Plot.pcolormesh(lon, lat, std_Dev.data,\n",
    "             transform=crs.PlateCarree(),\n",
    "             cmap='jet')\n",
    "std_Plot.add_feature(cfeature.COASTLINE)\n",
    "std_Plot.add_feature(cfeature.LAND)\n",
    "std_Plot.add_feature(cfeature.BORDERS)\n",
    "std_Plot.add_feature(states_provinces, edgecolor='gray')\n",
    "std_Plot.gridlines()\n",
    "\n",
    "# A new colorbar\n",
    "colorbar2 = fig.colorbar(std_Colormesh, shrink=0.7, anchor=('SW'))\n",
    "colorbar2.set_label('Number of Days',fontsize=24)\n",
    "colorbar2.ax.tick_params(labelsize=22)\n",
    "\n",
    "# Replace \"add_name_here\" with the name of your species, this will save the graph to the computer so we can have it\n",
    "# for Gaby's PowerPoint\n",
    "fig.savefig(r\"D:\\CRI_Modelling_PC\\CRI Maps\\California Halibut.jpeg\", bbox_inches='tight')"
   ]
  },
  {
   "cell_type": "code",
   "execution_count": null,
   "metadata": {},
   "outputs": [],
   "source": [
    "for ii in NOAA_Count:\n",
    "    #print(ii*NOAA_Mask[0,:,:])\n",
    "    fig = plt.figure(figsize=[20,10])\n",
    "    fig.suptitle('Daily averages between ' + str(min_Temp) + '\\u00b0C and ' + str(max_Temp) + '\\u00b0C',fontsize=20)\n",
    "\n",
    "    # Plot the count_Mean data\n",
    "    NOAA_Plot = fig.add_subplot(1,1,1,projection=crs.LambertConformal())\n",
    "    NOAA_Plot.set_title(ii.year.data, fontsize=20)\n",
    "    NOAA_Plot.set_extent([230,245,28,43], crs.Geodetic())\n",
    "    NOAA_Colormesh = NOAA_Plot.pcolormesh(lon, lat, ii.data,\n",
    "                 transform=crs.PlateCarree(),\n",
    "                 cmap='GnBu',vmax=365,vmin=0)\n",
    "    NOAA_Plot.add_feature(cfeature.COASTLINE)\n",
    "    NOAA_Plot.add_feature(cfeature.LAND)\n",
    "    NOAA_Plot.add_feature(cfeature.BORDERS)\n",
    "    NOAA_Plot.add_feature(states_provinces, edgecolor='gray')\n",
    "    NOAA_Plot.gridlines()\n",
    "\n",
    "    # Create a colorbar\n",
    "    colorbar = fig.colorbar(NOAA_Colormesh, shrink=0.7, anchor=('SW'))\n",
    "    colorbar.set_label('Number of Days',fontsize=24)\n",
    "    colorbar.ax.tick_params(labelsize=22)\n",
    "    \n",
    "    fig.savefig(r\"D:\\CRI_Modelling_PC\\CRI Maps\\Halibut gif\\ \"+str(ii.year.data)+\".tif\", bbox_inches='tight')"
   ]
  },
  {
   "cell_type": "code",
   "execution_count": null,
   "metadata": {},
   "outputs": [],
   "source": []
  }
 ],
 "metadata": {
  "kernelspec": {
   "display_name": "Python 3",
   "language": "python",
   "name": "python3"
  },
  "language_info": {
   "codemirror_mode": {
    "name": "ipython",
    "version": 3
   },
   "file_extension": ".py",
   "mimetype": "text/x-python",
   "name": "python",
   "nbconvert_exporter": "python",
   "pygments_lexer": "ipython3",
   "version": "3.7.7"
  }
 },
 "nbformat": 4,
 "nbformat_minor": 2
}
