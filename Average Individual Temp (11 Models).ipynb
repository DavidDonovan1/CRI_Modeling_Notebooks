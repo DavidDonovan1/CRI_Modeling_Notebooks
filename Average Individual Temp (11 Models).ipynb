{
 "cells": [
  {
   "cell_type": "code",
   "execution_count": 1,
   "metadata": {},
   "outputs": [],
   "source": [
    "import numpy as np\n",
    "import pandas as pd\n",
    "import xarray as xr\n",
    "import seaborn as sns\n",
    "import cartopy.crs as crs\n",
    "import cartopy.feature as cfeature\n",
    "import matplotlib\n",
    "import matplotlib.pyplot as plt"
   ]
  },
  {
   "cell_type": "code",
   "execution_count": 2,
   "metadata": {},
   "outputs": [],
   "source": [
    "NOAA = xr.open_dataset(r'D:\\CRI_Modelling_PC\\Netcdf Data\\NOAA\\sst.day.mean.PacCst.1981-2019.nc')\n",
    "\n",
    "BCC_CSM_BS = xr.open_dataset(r\"D:\\CRI_Modelling_PC\\Netcdf Data\\RegCM\\BCC-CSM_TEMPS\\BS\\BCC-CSM_BS_1966-2005_day_tg.nc\")\n",
    "BCC_CSM_RCP = xr.open_dataset(r\"D:\\CRI_Modelling_PC\\Netcdf Data\\RegCM\\BCC-CSM_TEMPS\\RCP\\BCC-CSM_RCP_2011-2050_day_tg.nc\")\n",
    "\n",
    "ACCESS_BS = xr.open_dataset(r\"D:\\CRI_Modelling_PC\\Netcdf Data\\RegCM\\ACCESS_TEMPS\\BS\\ACCESS_BS_1966-2005_day_tg.nc\")\n",
    "ACCESS_RCP = xr.open_dataset(r\"D:\\CRI_Modelling_PC\\Netcdf Data\\RegCM\\ACCESS_TEMPS\\RCP\\ACCESS_RCP_2011-2050_day_tg.nc\")\n",
    "\n",
    "CCSM4_BS = xr.open_dataset(r\"D:\\CRI_Modelling_PC\\Netcdf Data\\RegCM\\CCSM4_TEMPS\\BS\\CCSM4_BS_1966-2005_day_tg.nc\")\n",
    "CCSM4_RCP = xr.open_dataset(r\"D:\\CRI_Modelling_PC\\Netcdf Data\\RegCM\\CCSM4_TEMPS\\RCP\\CCSM4_RCP_2011-2050_day_tg.nc\")\n",
    "\n",
    "CMCC_BS = xr.open_dataset(r\"D:\\CRI_Modelling_PC\\Netcdf Data\\RegCM\\CMCC_TEMPS\\BS\\CMCC_BS_1966-2005_day_tg.nc\")\n",
    "CMCC_RCP = xr.open_dataset(r\"D:\\CRI_Modelling_PC\\Netcdf Data\\RegCM\\CMCC_TEMPS\\RCP\\CMCC_RCP_2011-2050_day_tg.nc\")\n",
    "\n",
    "FGOALS_BS = xr.open_dataset(r\"D:\\CRI_Modelling_PC\\Netcdf Data\\RegCM\\FGOALS_TEMPS\\BS\\FGOALS_BS_1966-2005_day_tg.nc\")\n",
    "FGOALS_RCP = xr.open_dataset(r\"D:\\CRI_Modelling_PC\\Netcdf Data\\RegCM\\FGOALS_TEMPS\\RCP\\FGOALS_RCP_2011-2050_day_tg.nc\")\n",
    "\n",
    "GFDL_BS = xr.open_dataset(r\"D:\\CRI_Modelling_PC\\Netcdf Data\\RegCM\\GFDL_TEMPS\\BS\\GFDL_BS_1966-2005_day_tg.nc\")\n",
    "GFDL_RCP = xr.open_dataset(r\"D:\\CRI_Modelling_PC\\Netcdf Data\\RegCM\\GFDL_TEMPS\\RCP\\GFDL_RCP_2011-2050_day_tg.nc\")\n",
    "\n",
    "IPSL_BS = xr.open_dataset(r\"D:\\CRI_Modelling_PC\\Netcdf Data\\RegCM\\IPSL_TEMPS\\BS\\IPSL_BS_1966-2005_day_tg.nc\")\n",
    "IPSL_RCP = xr.open_dataset(r\"D:\\CRI_Modelling_PC\\Netcdf Data\\RegCM\\IPSL_TEMPS\\RCP\\IPSL_RCP_2011-2050_day_tg.nc\")\n",
    "\n",
    "MIROC5_BS = xr.open_dataset(r\"D:\\CRI_Modelling_PC\\Netcdf Data\\RegCM\\MIROC5_TEMPS\\BS\\MIROC5_BS_1966-2005_day_tg.nc\")\n",
    "MIROC5_RCP = xr.open_dataset(r\"D:\\CRI_Modelling_PC\\Netcdf Data\\RegCM\\MIROC5_TEMPS\\RCP\\MIROC5_RCP_2011-2050_day_tg.nc\")\n",
    "\n",
    "MPI_BS = xr.open_dataset(r\"D:\\CRI_Modelling_PC\\Netcdf Data\\RegCM\\MPI_TEMPS\\BS\\MPI_BS_1966-2005_day_tg.nc\")\n",
    "MPI_RCP = xr.open_dataset(r\"D:\\CRI_Modelling_PC\\Netcdf Data\\RegCM\\MPI_TEMPS\\RCP\\MPI_RCP_2011-2050_day_tg.nc\")\n",
    "\n",
    "MRI_BS = xr.open_dataset(r\"D:\\CRI_Modelling_PC\\Netcdf Data\\RegCM\\MRI_TEMPS\\BS\\MRI_BS_1966-2005_day_tg.nc\")\n",
    "MRI_RCP = xr.open_dataset(r\"D:\\CRI_Modelling_PC\\Netcdf Data\\RegCM\\MRI_TEMPS\\RCP\\MRI_RCP_2011-2050_day_tg.nc\")\n",
    "\n",
    "NorESM_BS = xr.open_dataset(r\"D:\\CRI_Modelling_PC\\Netcdf Data\\RegCM\\NorESM_TEMPS\\BS\\NorESM_BS_1966-2005_day_tg.nc\")\n",
    "NorESM_RCP = xr.open_dataset(r\"D:\\CRI_Modelling_PC\\Netcdf Data\\RegCM\\NorESM_TEMPS\\RCP\\NorESM_RCP_2011-2050_day_tg.nc\")\n",
    "\n",
    "LandMask = xr.open_dataset(r'D:\\CRI_Modelling_PC\\Netcdf Data\\mask_new.nc').mask"
   ]
  },
  {
   "cell_type": "code",
   "execution_count": 3,
   "metadata": {},
   "outputs": [],
   "source": [
    "NAME_list = [\"ACCESS\", \"BCC_CSM\", \"CCSM4\", \"CMCC\", \"FGOALS\", \"MIROC5\", \"MRI\", \"NorESM\", \"GFDL\", \"IPSL\", \"MIROC5\"]\n",
    "BS_list = [ACCESS_BS, BCC_CSM_BS, CCSM4_BS, CMCC_BS, FGOALS_BS, MIROC5_BS, MRI_BS, NorESM_BS, GFDL_BS, IPSL_BS, MIROC5_BS]\n",
    "RCP_list = [ACCESS_RCP, BCC_CSM_RCP, CCSM4_RCP, CMCC_RCP, FGOALS_RCP, MIROC5_RCP, MRI_RCP, NorESM_RCP, GFDL_RCP, IPSL_RCP, MIROC5_RCP]"
   ]
  },
  {
   "cell_type": "code",
   "execution_count": 4,
   "metadata": {},
   "outputs": [],
   "source": [
    "lat = BCC_CSM_BS.xlat.data\n",
    "lon = BCC_CSM_BS.xlon.data\n",
    "\n",
    "lat_list = [model.xlat.data for model in BS_list]\n",
    "lon_list = [model.xlon.data for model in RCP_list]\n"
   ]
  },
  {
   "cell_type": "code",
   "execution_count": 5,
   "metadata": {},
   "outputs": [],
   "source": [
    "average_BS_dict = {}\n",
    "for model in range(len(BS_list)):\n",
    "    average_BS_dict[model] = BS_list[model].tg.mean(dim='time').where(LandMask==0)\n",
    "\n",
    "average_RCP_dict = {}\n",
    "for model in range(len(RCP_list)):\n",
    "    average_RCP_dict[model] = RCP_list[model].tg.mean(dim='time').where(LandMask==0)"
   ]
  },
  {
   "cell_type": "code",
   "execution_count": 6,
   "metadata": {},
   "outputs": [
    {
     "ename": "KeyboardInterrupt",
     "evalue": "",
     "output_type": "error",
     "traceback": [
      "\u001b[1;31m---------------------------------------------------------------------------\u001b[0m",
      "\u001b[1;31mKeyboardInterrupt\u001b[0m                         Traceback (most recent call last)",
      "\u001b[1;32m<ipython-input-6-02e72fabaf82>\u001b[0m in \u001b[0;36m<module>\u001b[1;34m\u001b[0m\n\u001b[0;32m     27\u001b[0m         \u001b[1;32mfor\u001b[0m \u001b[0mmodel\u001b[0m \u001b[1;32min\u001b[0m \u001b[0mrange\u001b[0m\u001b[1;33m(\u001b[0m\u001b[0mlen\u001b[0m\u001b[1;33m(\u001b[0m\u001b[0mBS_list\u001b[0m\u001b[1;33m)\u001b[0m\u001b[1;33m)\u001b[0m\u001b[1;33m:\u001b[0m\u001b[1;33m\u001b[0m\u001b[1;33m\u001b[0m\u001b[0m\n\u001b[0;32m     28\u001b[0m             \u001b[0msst_point\u001b[0m\u001b[1;33m.\u001b[0m\u001b[0mappend\u001b[0m\u001b[1;33m(\u001b[0m\u001b[0maverage_BS_dict\u001b[0m\u001b[1;33m[\u001b[0m\u001b[0mmodel\u001b[0m\u001b[1;33m]\u001b[0m\u001b[1;33m[\u001b[0m\u001b[0mlat\u001b[0m\u001b[1;33m]\u001b[0m\u001b[1;33m[\u001b[0m\u001b[0mlon\u001b[0m\u001b[1;33m]\u001b[0m\u001b[1;33m)\u001b[0m\u001b[1;33m\u001b[0m\u001b[1;33m\u001b[0m\u001b[0m\n\u001b[1;32m---> 29\u001b[1;33m         \u001b[0mmean\u001b[0m \u001b[1;33m=\u001b[0m \u001b[0msum\u001b[0m\u001b[1;33m(\u001b[0m\u001b[0msst_point\u001b[0m\u001b[1;33m)\u001b[0m \u001b[1;33m/\u001b[0m \u001b[0mlen\u001b[0m\u001b[1;33m(\u001b[0m\u001b[0msst_point\u001b[0m\u001b[1;33m)\u001b[0m\u001b[1;33m\u001b[0m\u001b[1;33m\u001b[0m\u001b[0m\n\u001b[0m\u001b[0;32m     30\u001b[0m         \u001b[0msst_point\u001b[0m \u001b[1;33m=\u001b[0m \u001b[1;33m[\u001b[0m\u001b[1;33m(\u001b[0m\u001b[0mp\u001b[0m\u001b[1;33m-\u001b[0m\u001b[0mmean\u001b[0m\u001b[1;33m)\u001b[0m\u001b[1;33m**\u001b[0m\u001b[1;36m2\u001b[0m \u001b[1;32mfor\u001b[0m \u001b[0mp\u001b[0m \u001b[1;32min\u001b[0m \u001b[0msst_point\u001b[0m\u001b[1;33m]\u001b[0m\u001b[1;33m\u001b[0m\u001b[1;33m\u001b[0m\u001b[0m\n\u001b[0;32m     31\u001b[0m         \u001b[0mstd_BS\u001b[0m\u001b[1;33m[\u001b[0m\u001b[0mlat\u001b[0m\u001b[1;33m]\u001b[0m\u001b[1;33m[\u001b[0m\u001b[0mlon\u001b[0m\u001b[1;33m]\u001b[0m \u001b[1;33m=\u001b[0m \u001b[1;33m(\u001b[0m\u001b[0msum\u001b[0m\u001b[1;33m(\u001b[0m\u001b[0msst_point\u001b[0m\u001b[1;33m)\u001b[0m \u001b[1;33m/\u001b[0m \u001b[0mlen\u001b[0m\u001b[1;33m(\u001b[0m\u001b[0msst_point\u001b[0m\u001b[1;33m)\u001b[0m\u001b[1;33m)\u001b[0m \u001b[1;33m**\u001b[0m \u001b[1;33m(\u001b[0m\u001b[1;36m1\u001b[0m\u001b[1;33m/\u001b[0m\u001b[1;36m2\u001b[0m\u001b[1;33m)\u001b[0m\u001b[1;33m\u001b[0m\u001b[1;33m\u001b[0m\u001b[0m\n",
      "\u001b[1;32mC:\\ProgramData\\Anaconda3\\lib\\site-packages\\xarray\\core\\dataarray.py\u001b[0m in \u001b[0;36mfunc\u001b[1;34m(self, other)\u001b[0m\n\u001b[0;32m   2695\u001b[0m             \u001b[0mname\u001b[0m \u001b[1;33m=\u001b[0m \u001b[0mself\u001b[0m\u001b[1;33m.\u001b[0m\u001b[0m_result_name\u001b[0m\u001b[1;33m(\u001b[0m\u001b[0mother\u001b[0m\u001b[1;33m)\u001b[0m\u001b[1;33m\u001b[0m\u001b[1;33m\u001b[0m\u001b[0m\n\u001b[0;32m   2696\u001b[0m \u001b[1;33m\u001b[0m\u001b[0m\n\u001b[1;32m-> 2697\u001b[1;33m             \u001b[1;32mreturn\u001b[0m \u001b[0mself\u001b[0m\u001b[1;33m.\u001b[0m\u001b[0m_replace\u001b[0m\u001b[1;33m(\u001b[0m\u001b[0mvariable\u001b[0m\u001b[1;33m,\u001b[0m \u001b[0mcoords\u001b[0m\u001b[1;33m,\u001b[0m \u001b[0mname\u001b[0m\u001b[1;33m,\u001b[0m \u001b[0mindexes\u001b[0m\u001b[1;33m=\u001b[0m\u001b[0mindexes\u001b[0m\u001b[1;33m)\u001b[0m\u001b[1;33m\u001b[0m\u001b[1;33m\u001b[0m\u001b[0m\n\u001b[0m\u001b[0;32m   2698\u001b[0m \u001b[1;33m\u001b[0m\u001b[0m\n\u001b[0;32m   2699\u001b[0m         \u001b[1;32mreturn\u001b[0m \u001b[0mfunc\u001b[0m\u001b[1;33m\u001b[0m\u001b[1;33m\u001b[0m\u001b[0m\n",
      "\u001b[1;32mC:\\ProgramData\\Anaconda3\\lib\\site-packages\\xarray\\core\\dataarray.py\u001b[0m in \u001b[0;36m_replace\u001b[1;34m(self, variable, coords, name, indexes)\u001b[0m\n\u001b[0;32m    372\u001b[0m         \u001b[1;32mif\u001b[0m \u001b[0mname\u001b[0m \u001b[1;32mis\u001b[0m \u001b[0m_default\u001b[0m\u001b[1;33m:\u001b[0m\u001b[1;33m\u001b[0m\u001b[1;33m\u001b[0m\u001b[0m\n\u001b[0;32m    373\u001b[0m             \u001b[0mname\u001b[0m \u001b[1;33m=\u001b[0m \u001b[0mself\u001b[0m\u001b[1;33m.\u001b[0m\u001b[0mname\u001b[0m\u001b[1;33m\u001b[0m\u001b[1;33m\u001b[0m\u001b[0m\n\u001b[1;32m--> 374\u001b[1;33m         \u001b[1;32mreturn\u001b[0m \u001b[0mtype\u001b[0m\u001b[1;33m(\u001b[0m\u001b[0mself\u001b[0m\u001b[1;33m)\u001b[0m\u001b[1;33m(\u001b[0m\u001b[0mvariable\u001b[0m\u001b[1;33m,\u001b[0m \u001b[0mcoords\u001b[0m\u001b[1;33m,\u001b[0m \u001b[0mname\u001b[0m\u001b[1;33m=\u001b[0m\u001b[0mname\u001b[0m\u001b[1;33m,\u001b[0m \u001b[0mfastpath\u001b[0m\u001b[1;33m=\u001b[0m\u001b[1;32mTrue\u001b[0m\u001b[1;33m,\u001b[0m \u001b[0mindexes\u001b[0m\u001b[1;33m=\u001b[0m\u001b[0mindexes\u001b[0m\u001b[1;33m)\u001b[0m\u001b[1;33m\u001b[0m\u001b[1;33m\u001b[0m\u001b[0m\n\u001b[0m\u001b[0;32m    375\u001b[0m \u001b[1;33m\u001b[0m\u001b[0m\n\u001b[0;32m    376\u001b[0m     def _replace_maybe_drop_dims(\n",
      "\u001b[1;32mC:\\ProgramData\\Anaconda3\\lib\\site-packages\\xarray\\core\\dataarray.py\u001b[0m in \u001b[0;36m__init__\u001b[1;34m(self, data, coords, dims, name, attrs, indexes, fastpath)\u001b[0m\n\u001b[0;32m    357\u001b[0m         \u001b[0mself\u001b[0m\u001b[1;33m.\u001b[0m\u001b[0m_indexes\u001b[0m \u001b[1;33m=\u001b[0m \u001b[0mindexes\u001b[0m\u001b[1;33m\u001b[0m\u001b[1;33m\u001b[0m\u001b[0m\n\u001b[0;32m    358\u001b[0m \u001b[1;33m\u001b[0m\u001b[0m\n\u001b[1;32m--> 359\u001b[1;33m         \u001b[0mself\u001b[0m\u001b[1;33m.\u001b[0m\u001b[0m_file_obj\u001b[0m \u001b[1;33m=\u001b[0m \u001b[1;32mNone\u001b[0m\u001b[1;33m\u001b[0m\u001b[1;33m\u001b[0m\u001b[0m\n\u001b[0m\u001b[0;32m    360\u001b[0m \u001b[1;33m\u001b[0m\u001b[0m\n\u001b[0;32m    361\u001b[0m     def _replace(\n",
      "\u001b[1;32mC:\\ProgramData\\Anaconda3\\lib\\site-packages\\xarray\\core\\common.py\u001b[0m in \u001b[0;36m__setattr__\u001b[1;34m(self, name, value)\u001b[0m\n\u001b[0;32m    260\u001b[0m         \"\"\"\n\u001b[0;32m    261\u001b[0m         \u001b[1;32mtry\u001b[0m\u001b[1;33m:\u001b[0m\u001b[1;33m\u001b[0m\u001b[1;33m\u001b[0m\u001b[0m\n\u001b[1;32m--> 262\u001b[1;33m             \u001b[0mobject\u001b[0m\u001b[1;33m.\u001b[0m\u001b[0m__setattr__\u001b[0m\u001b[1;33m(\u001b[0m\u001b[0mself\u001b[0m\u001b[1;33m,\u001b[0m \u001b[0mname\u001b[0m\u001b[1;33m,\u001b[0m \u001b[0mvalue\u001b[0m\u001b[1;33m)\u001b[0m\u001b[1;33m\u001b[0m\u001b[1;33m\u001b[0m\u001b[0m\n\u001b[0m\u001b[0;32m    263\u001b[0m         \u001b[1;32mexcept\u001b[0m \u001b[0mAttributeError\u001b[0m \u001b[1;32mas\u001b[0m \u001b[0me\u001b[0m\u001b[1;33m:\u001b[0m\u001b[1;33m\u001b[0m\u001b[1;33m\u001b[0m\u001b[0m\n\u001b[0;32m    264\u001b[0m             \u001b[1;31m# Don't accidentally shadow custom AttributeErrors, e.g.\u001b[0m\u001b[1;33m\u001b[0m\u001b[1;33m\u001b[0m\u001b[1;33m\u001b[0m\u001b[0m\n",
      "\u001b[1;31mKeyboardInterrupt\u001b[0m: "
     ]
    }
   ],
   "source": [
    "# BS_sum = average_BS_dict[0]*0\n",
    "# for x in average_BS_dict.values():\n",
    "#     BS_sum += x.data\n",
    "    \n",
    "# avg_BS = BS_sum/len(BS_list)\n",
    "\n",
    "# RCP_sum = average_RCP_dict[0]*0\n",
    "# for x in average_RCP_dict.values():\n",
    "#     RCP_sum += x.data\n",
    "    \n",
    "# avg_RCP = RCP_sum/len(RCP_list)\n",
    "\n",
    "\n",
    "# individual_BS = {}\n",
    "# for model in range(len(BS_list)):\n",
    "#     individual_sum = 0 \n",
    "#     for x in average_BS_dict.values():\n",
    "#         individual_sum += x.data\n",
    "#     individual_BS[model] = individual_sum\n",
    "\n",
    "\n",
    "std_BS = average_BS_dict[0] * 0\n",
    "sst_point = []\n",
    "# # For every sst value at lat, lon; read the sst at each of the 11 models to calculate std at a point\n",
    "for lat in range(len(average_BS_dict[0].y)):\n",
    "    for lon in range(len(average_BS_dict[0].x)):\n",
    "        for model in range(len(BS_list)):\n",
    "            sst_point.append(average_BS_dict[model][lat][lon])\n",
    "        mean = sum(sst_point) / len(sst_point)\n",
    "        sst_point = [(p-mean)**2 for p in sst_point]\n",
    "        std_BS[lat][lon] = (sum(sst_point) / len(sst_point)) ** (1/2)\n",
    "    \n",
    "std_BS\n",
    "\n",
    "# point = [1,2,3,4,5]\n",
    "# point.append(6)\n",
    "# mean = sum(point) / len(point)\n",
    "# point = [(p-mean)**2 for p in point]\n",
    "\n",
    "# std = (sum(point) / len(point)) ** (1/2)\n",
    "# # std\n",
    "# std"
   ]
  },
  {
   "cell_type": "code",
   "execution_count": null,
   "metadata": {},
   "outputs": [],
   "source": [
    "\n",
    "# BS Plotting\n",
    "states_provinces = cfeature.NaturalEarthFeature(\n",
    "        category='cultural',\n",
    "        name='admin_1_states_provinces_lines',\n",
    "        scale='50m',\n",
    "        facecolor='none')\n",
    "\n",
    "fig = plt.figure(figsize=[80,80])\n",
    "fig.suptitle('Individual Model Average BS Temperature: 1996 - 2005', fontsize=80)\n",
    "\n",
    "for model in range(len(BS_list)):\n",
    "    individual_title = NAME_list[model]\n",
    "    individual_model = fig.add_subplot(4,3,model+1,projection=crs.LambertConformal())\n",
    "    individual_model.set_title(individual_title,fontsize=64)\n",
    "    individual_diff = individual_model.pcolormesh(lon_list[model], lat_list[model], average_BS_dict[model],\n",
    "                     transform=crs.PlateCarree(),\n",
    "                     cmap='jet',vmax=30,vmin=0)\n",
    "    individual_model.set_extent([236,245,23,43], crs.Geodetic())\n",
    "    individual_model.add_feature(cfeature.COASTLINE)\n",
    "    individual_model.add_feature(cfeature.LAND)\n",
    "    individual_model.add_feature(cfeature.BORDERS)\n",
    "    individual_model.add_feature(states_provinces, edgecolor='gray')\n",
    "    individual_model.gridlines()\n",
    "\n",
    "    colorbar = fig.colorbar(individual_diff, shrink=0.9, anchor=('SW'))\n",
    "    #colorbar.set_label('Mean temperature (\\u00b0C)',fontsize=24)\n",
    "    colorbar.ax.tick_params(labelsize=22)\n",
    "#std deviation\n",
    "individual_title = \"Standard Deviation\"\n",
    "individual_model = fig.add_subplot(4,3,12,projection=crs.LambertConformal())\n",
    "individual_model.set_title(individual_title,fontsize=64)\n",
    "individual_diff = individual_model.pcolormesh(lon, lat, std_BS,\n",
    "                transform=crs.PlateCarree(),\n",
    "                cmap='jet',vmax=30,vmin=0)\n",
    "individual_model.set_extent([236,245,23,43], crs.Geodetic())\n",
    "individual_model.add_feature(cfeature.COASTLINE)\n",
    "individual_model.add_feature(cfeature.LAND)\n",
    "individual_model.add_feature(cfeature.BORDERS)\n",
    "individual_model.add_feature(states_provinces, edgecolor='gray')\n",
    "individual_model.gridlines()\n",
    "fig.savefig(r\"D:\\CRI_Modelling_PC\\CRI Maps\\Average Individual Models Temp BS.jpeg\", bbox_inches='tight')"
   ]
  },
  {
   "cell_type": "code",
   "execution_count": null,
   "metadata": {},
   "outputs": [],
   "source": []
  },
  {
   "cell_type": "code",
   "execution_count": null,
   "metadata": {},
   "outputs": [],
   "source": [
    "\n",
    "# RCP Plotting\n",
    "states_provinces = cfeature.NaturalEarthFeature(\n",
    "        category='cultural',\n",
    "        name='admin_1_states_provinces_lines',\n",
    "        scale='50m',\n",
    "        facecolor='none')\n",
    "\n",
    "fig = plt.figure(figsize=[80,80])\n",
    "fig.suptitle('Individual Model Average RCP Temperature: 2011 - 2050', fontsize=80)\n",
    "\n",
    "for model in range(len(BS_list)):\n",
    "    individual_title = NAME_list[model]\n",
    "    individual_model = fig.add_subplot(4,3,model+1,projection=crs.LambertConformal())\n",
    "    individual_model.set_title(individual_title,fontsize=64)\n",
    "    individual_diff = individual_model.pcolormesh(lon, lat, average_RCP_dict[model],\n",
    "                     transform=crs.PlateCarree(),\n",
    "                     cmap='jet',vmax=30,vmin=0)\n",
    "    individual_model.set_extent([236,245,23,43], crs.Geodetic())\n",
    "    individual_model.add_feature(cfeature.COASTLINE)\n",
    "    individual_model.add_feature(cfeature.LAND)\n",
    "    individual_model.add_feature(cfeature.BORDERS)\n",
    "    individual_model.add_feature(states_provinces, edgecolor='gray')\n",
    "    individual_model.gridlines()\n",
    "\n",
    "    colorbar = fig.colorbar(individual_diff, shrink=0.9, anchor=('SW'))\n",
    "#     colorbar.set_label('Mean temperature (\\u00b0C)',fontsize=24)\n",
    "    colorbar.ax.tick_params(labelsize=22)\n",
    "\n",
    "\n",
    "fig.savefig(r\"D:\\CRI_Modelling_PC\\CRI Maps\\Average Individual Models Temp RCP.jpeg\", bbox_inches='tight')"
   ]
  },
  {
   "cell_type": "code",
   "execution_count": null,
   "metadata": {
    "scrolled": true
   },
   "outputs": [],
   "source": [
    "\n",
    "# Plotting is much the same as last time, starting with state lines\n",
    "states_provinces = cfeature.NaturalEarthFeature(\n",
    "        category='cultural',\n",
    "        name='admin_1_states_provinces_lines',\n",
    "        scale='50m',\n",
    "        facecolor='none')\n",
    "\n",
    "fig2 = plt.figure(figsize=[40,12])\n",
    "fig2.suptitle('Mean Temperature Past/Future Comparison', fontsize=48)\n",
    "\n",
    "plotBS_avg = fig2.add_subplot(1,3,1,projection=crs.LambertConformal())\n",
    "plotBS_avg.set_title('BS Average: 1966-2005',fontsize=32)\n",
    "diff_cont_BS_avg = plotBS_avg.pcolormesh(lon, lat, avg_BS,\n",
    "             transform=crs.PlateCarree(),\n",
    "             cmap='jet',vmax=30,vmin=0)\n",
    "plotBS_avg.add_feature(cfeature.COASTLINE)\n",
    "plotBS_avg.add_feature(cfeature.LAND)\n",
    "plotBS_avg.add_feature(cfeature.BORDERS)\n",
    "plotBS_avg.add_feature(states_provinces, edgecolor='gray')\n",
    "plotBS_avg.gridlines()\n",
    "\n",
    "colorbar4 = fig2.colorbar(diff_cont_BS_avg, shrink=0.7, anchor=('SW'))\n",
    "colorbar4.set_label('Mean temperature (\\u00b0C)',fontsize=24)\n",
    "colorbar4.ax.tick_params(labelsize=22)\n",
    "\n",
    "plotRCP_avg = fig2.add_subplot(1,3,2,projection=crs.LambertConformal())\n",
    "plotRCP_avg.set_title('RCP Average: 2011-2050',fontsize=32)\n",
    "diff_cont_RCP_avg = plotRCP_avg.pcolormesh(lon, lat, avg_RCP,\n",
    "             transform=crs.PlateCarree(),\n",
    "             cmap='jet',vmax=30,vmin=0)\n",
    "plotRCP_avg.add_feature(cfeature.COASTLINE)\n",
    "plotRCP_avg.add_feature(cfeature.LAND)\n",
    "plotRCP_avg.add_feature(cfeature.BORDERS)\n",
    "plotRCP_avg.add_feature(states_provinces, edgecolor='gray')\n",
    "plotRCP_avg.gridlines()\n",
    "\n",
    "colorbar5 = fig2.colorbar(diff_cont_RCP_avg, shrink=0.7, anchor=('SW'))\n",
    "colorbar5.set_label('Mean temperature (\\u00b0C)',fontsize=24)\n",
    "colorbar5.ax.tick_params(labelsize=22)\n",
    "\n",
    "\n",
    "meandiffplot = fig2.add_subplot(1,3,3,projection=crs.LambertConformal())\n",
    "meandiffplot.set_title('Temperature Difference',fontsize=32)\n",
    "mean_diff_cont = meandiffplot.pcolormesh(lon, lat, avg_RCP - avg_BS,\n",
    "             transform=crs.PlateCarree(),\n",
    "             cmap='hot', vmin = 0, vmax = 1)\n",
    "meandiffplot.add_feature(cfeature.COASTLINE)\n",
    "meandiffplot.add_feature(cfeature.LAND)\n",
    "meandiffplot.add_feature(cfeature.BORDERS)\n",
    "meandiffplot.add_feature(states_provinces, edgecolor='gray')\n",
    "meandiffplot.gridlines()\n",
    "\n",
    "colorbar6 = fig2.colorbar(mean_diff_cont, shrink=0.7, anchor=('SW'))\n",
    "colorbar6.set_label('Temperature Difference (\\u00b0C)',fontsize=24)\n",
    "colorbar6.ax.tick_params(labelsize=22)\n",
    "\n",
    "fig2.savefig(r\"D:\\CRI_Modelling_PC\\CRI Maps\\Average Models Mean Temp.jpeg\", bbox_inches='tight')"
   ]
  },
  {
   "cell_type": "code",
   "execution_count": null,
   "metadata": {},
   "outputs": [],
   "source": []
  },
  {
   "cell_type": "code",
   "execution_count": null,
   "metadata": {},
   "outputs": [],
   "source": [
    "avg_BS\n"
   ]
  },
  {
   "cell_type": "code",
   "execution_count": null,
   "metadata": {},
   "outputs": [],
   "source": [
    "pd.DataFrame(avg_RCP.data)"
   ]
  },
  {
   "cell_type": "code",
   "execution_count": null,
   "metadata": {},
   "outputs": [],
   "source": [
    "RCP_list"
   ]
  },
  {
   "cell_type": "code",
   "execution_count": null,
   "metadata": {},
   "outputs": [],
   "source": [
    "avg_BS"
   ]
  },
  {
   "cell_type": "code",
   "execution_count": null,
   "metadata": {},
   "outputs": [],
   "source": [
    "average_RCP_dict"
   ]
  },
  {
   "cell_type": "code",
   "execution_count": null,
   "metadata": {},
   "outputs": [],
   "source": [
    "MPI_BS.tg.mean(dim='time').where(LandMask==0)"
   ]
  },
  {
   "cell_type": "code",
   "execution_count": null,
   "metadata": {},
   "outputs": [],
   "source": [
    "GFDL_RCP.tg.mean(dim='time').where(LandMask==0)"
   ]
  },
  {
   "cell_type": "code",
   "execution_count": null,
   "metadata": {},
   "outputs": [],
   "source": [
    "ACCESS_RCP.tg.mean(dim='time').where(LandMask==0)"
   ]
  },
  {
   "cell_type": "code",
   "execution_count": null,
   "metadata": {},
   "outputs": [],
   "source": [
    "pd.DataFrame(FGOALS_RCP.tg.mean(dim='time').where(LandMask==0).data)"
   ]
  },
  {
   "cell_type": "code",
   "execution_count": null,
   "metadata": {},
   "outputs": [],
   "source": []
  }
 ],
 "metadata": {
  "kernelspec": {
   "display_name": "Python 3",
   "language": "python",
   "name": "python3"
  },
  "language_info": {
   "codemirror_mode": {
    "name": "ipython",
    "version": 3
   },
   "file_extension": ".py",
   "mimetype": "text/x-python",
   "name": "python",
   "nbconvert_exporter": "python",
   "pygments_lexer": "ipython3",
   "version": "3.7.7"
  }
 },
 "nbformat": 4,
 "nbformat_minor": 2
}
